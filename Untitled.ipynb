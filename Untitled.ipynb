{
 "cells": [
  {
   "cell_type": "code",
   "execution_count": 12,
   "id": "ff2fed2d-dbe6-4a42-9ea9-4d429d1bbdcb",
   "metadata": {},
   "outputs": [],
   "source": [
    "import pandas as pd"
   ]
  },
  {
   "cell_type": "code",
   "execution_count": 4,
   "id": "c7be6d2b-8dbc-4b2e-9cab-fe0349a5d415",
   "metadata": {},
   "outputs": [],
   "source": [
    "file_path = \"gcs://football_datalake/Team_ids/pl_teams.csv\""
   ]
  },
  {
   "cell_type": "code",
   "execution_count": 13,
   "id": "00694026-79bf-4fa0-a0bb-b25d6aca52cd",
   "metadata": {},
   "outputs": [],
   "source": [
    "df = pd.read_csv(file_path)"
   ]
  },
  {
   "cell_type": "code",
   "execution_count": 9,
   "id": "8f8c1dd1-33aa-4364-8a1b-c795ddb486ce",
   "metadata": {},
   "outputs": [
    {
     "data": {
      "text/html": [
       "<div>\n",
       "<style scoped>\n",
       "    .dataframe tbody tr th:only-of-type {\n",
       "        vertical-align: middle;\n",
       "    }\n",
       "\n",
       "    .dataframe tbody tr th {\n",
       "        vertical-align: top;\n",
       "    }\n",
       "\n",
       "    .dataframe thead th {\n",
       "        text-align: right;\n",
       "    }\n",
       "</style>\n",
       "<table border=\"1\" class=\"dataframe\">\n",
       "  <thead>\n",
       "    <tr style=\"text-align: right;\">\n",
       "      <th></th>\n",
       "      <th>team_id</th>\n",
       "      <th>team_name</th>\n",
       "    </tr>\n",
       "  </thead>\n",
       "  <tbody>\n",
       "    <tr>\n",
       "      <th>0</th>\n",
       "      <td>42</td>\n",
       "      <td>Arsenal</td>\n",
       "    </tr>\n",
       "    <tr>\n",
       "      <th>1</th>\n",
       "      <td>50</td>\n",
       "      <td>Manchester City</td>\n",
       "    </tr>\n",
       "    <tr>\n",
       "      <th>2</th>\n",
       "      <td>34</td>\n",
       "      <td>Newcastle United</td>\n",
       "    </tr>\n",
       "    <tr>\n",
       "      <th>3</th>\n",
       "      <td>47</td>\n",
       "      <td>Tottenham Hotspur</td>\n",
       "    </tr>\n",
       "    <tr>\n",
       "      <th>4</th>\n",
       "      <td>33</td>\n",
       "      <td>Manchester United</td>\n",
       "    </tr>\n",
       "  </tbody>\n",
       "</table>\n",
       "</div>"
      ],
      "text/plain": [
       "   team_id          team_name\n",
       "0       42            Arsenal\n",
       "1       50    Manchester City\n",
       "2       34   Newcastle United\n",
       "3       47  Tottenham Hotspur\n",
       "4       33  Manchester United"
      ]
     },
     "execution_count": 9,
     "metadata": {},
     "output_type": "execute_result"
    }
   ],
   "source": [
    "df.head()"
   ]
  },
  {
   "cell_type": "code",
   "execution_count": 11,
   "id": "873def5a-17c7-4870-9119-d4823ccb03cc",
   "metadata": {},
   "outputs": [
    {
     "data": {
      "text/plain": [
       "(20, 2)"
      ]
     },
     "execution_count": 11,
     "metadata": {},
     "output_type": "execute_result"
    }
   ],
   "source": [
    "df.shape"
   ]
  },
  {
   "cell_type": "code",
   "execution_count": 15,
   "id": "74651db9-7090-4af2-8416-d94f02eca86b",
   "metadata": {},
   "outputs": [
    {
     "data": {
      "text/plain": [
       "array([42, 50, 34, 47, 33, 51, 49, 40, 36, 52, 55, 63, 66, 46, 48, 45, 35,\n",
       "       41, 39, 65])"
      ]
     },
     "execution_count": 15,
     "metadata": {},
     "output_type": "execute_result"
    }
   ],
   "source": [
    "df[\"team_id\"].values"
   ]
  },
  {
   "cell_type": "code",
   "execution_count": 16,
   "id": "750deb2b-3bf3-4c35-9754-f89b29dc1bed",
   "metadata": {},
   "outputs": [
    {
     "name": "stdout",
     "output_type": "stream",
     "text": [
      "42\n",
      "50\n",
      "34\n",
      "47\n",
      "33\n",
      "51\n",
      "49\n",
      "40\n",
      "36\n",
      "52\n",
      "55\n",
      "63\n",
      "66\n",
      "46\n",
      "48\n",
      "45\n",
      "35\n",
      "41\n",
      "39\n",
      "65\n"
     ]
    }
   ],
   "source": [
    "for i in df[\"team_id\"].values:\n",
    "    print(i)"
   ]
  },
  {
   "cell_type": "code",
   "execution_count": 17,
   "id": "74e87c83-d7e4-40d6-9e82-a28df19de691",
   "metadata": {},
   "outputs": [],
   "source": [
    "import requests\n",
    "import json"
   ]
  },
  {
   "cell_type": "code",
   "execution_count": 19,
   "id": "f5df2c40-993d-4187-bdbd-7ac97df86732",
   "metadata": {},
   "outputs": [],
   "source": [
    "headers = {\n",
    "    'x-rapidapi-host': 'v3.football.api-sports.io',\n",
    "    'x-rapidapi-key':'535e2744ea7c3c2c8d3b38193243b94e'\n",
    "}"
   ]
  },
  {
   "cell_type": "code",
   "execution_count": 21,
   "id": "f13a0156-c545-4f3b-b7a2-7738fa7db7c5",
   "metadata": {},
   "outputs": [],
   "source": [
    "url = f\"https://v3.football.api-sports.io/teams\"\n",
    "response = requests.get(url, headers=headers, params={\"id\": 33})"
   ]
  },
  {
   "cell_type": "code",
   "execution_count": 22,
   "id": "6ec66cfd-317d-465b-a4e5-8f2dc48e88ed",
   "metadata": {},
   "outputs": [
    {
     "data": {
      "text/plain": [
       "'{\"get\":\"teams\",\"parameters\":{\"id\":\"33\"},\"errors\":[],\"results\":1,\"paging\":{\"current\":1,\"total\":1},\"response\":[{\"team\":{\"id\":33,\"name\":\"Manchester United\",\"code\":\"MUN\",\"country\":\"England\",\"founded\":1878,\"national\":false,\"logo\":\"https:\\\\/\\\\/media.api-sports.io\\\\/football\\\\/teams\\\\/33.png\"},\"venue\":{\"id\":556,\"name\":\"Old Trafford\",\"address\":\"Sir Matt Busby Way\",\"city\":\"Manchester\",\"capacity\":76212,\"surface\":\"grass\",\"image\":\"https:\\\\/\\\\/media.api-sports.io\\\\/football\\\\/venues\\\\/556.png\"}}]}'"
      ]
     },
     "execution_count": 22,
     "metadata": {},
     "output_type": "execute_result"
    }
   ],
   "source": [
    "response.text"
   ]
  },
  {
   "cell_type": "code",
   "execution_count": 23,
   "id": "d83e8cc2-0973-4577-a4ff-e7f02f1fbb7c",
   "metadata": {},
   "outputs": [
    {
     "data": {
      "text/plain": [
       "{'get': 'teams',\n",
       " 'parameters': {'id': '33'},\n",
       " 'errors': [],\n",
       " 'results': 1,\n",
       " 'paging': {'current': 1, 'total': 1},\n",
       " 'response': [{'team': {'id': 33,\n",
       "    'name': 'Manchester United',\n",
       "    'code': 'MUN',\n",
       "    'country': 'England',\n",
       "    'founded': 1878,\n",
       "    'national': False,\n",
       "    'logo': 'https://media.api-sports.io/football/teams/33.png'},\n",
       "   'venue': {'id': 556,\n",
       "    'name': 'Old Trafford',\n",
       "    'address': 'Sir Matt Busby Way',\n",
       "    'city': 'Manchester',\n",
       "    'capacity': 76212,\n",
       "    'surface': 'grass',\n",
       "    'image': 'https://media.api-sports.io/football/venues/556.png'}}]}"
      ]
     },
     "execution_count": 23,
     "metadata": {},
     "output_type": "execute_result"
    }
   ],
   "source": [
    "response.json()"
   ]
  },
  {
   "cell_type": "code",
   "execution_count": 35,
   "id": "3b9f6cb0-1d43-4e2e-bb68-66fe41f13fe3",
   "metadata": {},
   "outputs": [],
   "source": [
    "response = response.json()"
   ]
  },
  {
   "cell_type": "code",
   "execution_count": 53,
   "id": "fcadee14-108c-4147-a7f5-f8ffdb46564e",
   "metadata": {},
   "outputs": [],
   "source": [
    "venue = response['response'][0].get('venue')"
   ]
  },
  {
   "cell_type": "code",
   "execution_count": 57,
   "id": "25cb1535-04d4-4040-bad1-ea0428dfac24",
   "metadata": {},
   "outputs": [
    {
     "data": {
      "text/plain": [
       "556"
      ]
     },
     "execution_count": 57,
     "metadata": {},
     "output_type": "execute_result"
    }
   ],
   "source": [
    "venue.get(\"id\")"
   ]
  },
  {
   "cell_type": "code",
   "execution_count": 31,
   "id": "b7dee029-52aa-4c08-8037-a6e9e0b63d55",
   "metadata": {},
   "outputs": [],
   "source": [
    "df = pd.DataFrame(columns =[\"team_id\", \"team_name\", \"stadium\", \"capacity\", \"surface\", \"city\", \"current_coach\"])"
   ]
  },
  {
   "cell_type": "code",
   "execution_count": 33,
   "id": "40aeca83-d76f-42c1-a37d-1514f0a3898f",
   "metadata": {},
   "outputs": [],
   "source": [
    "dic = {'team_id': 1, \"team_name\":\"Arsenal\", \"stadium\":\"Emirates\", \"capacity\": 60000, \"surface\":\"grass\", \"city\":\"london\", \"current_coach\":\"Arteta\"}"
   ]
  },
  {
   "cell_type": "code",
   "execution_count": 34,
   "id": "786efa7c-dbba-42ef-b554-23eeace72728",
   "metadata": {},
   "outputs": [
    {
     "name": "stderr",
     "output_type": "stream",
     "text": [
      "/tmp/ipykernel_6901/3912001189.py:1: FutureWarning: The frame.append method is deprecated and will be removed from pandas in a future version. Use pandas.concat instead.\n",
      "  df.append(dic, ignore_index = True)\n"
     ]
    },
    {
     "data": {
      "text/html": [
       "<div>\n",
       "<style scoped>\n",
       "    .dataframe tbody tr th:only-of-type {\n",
       "        vertical-align: middle;\n",
       "    }\n",
       "\n",
       "    .dataframe tbody tr th {\n",
       "        vertical-align: top;\n",
       "    }\n",
       "\n",
       "    .dataframe thead th {\n",
       "        text-align: right;\n",
       "    }\n",
       "</style>\n",
       "<table border=\"1\" class=\"dataframe\">\n",
       "  <thead>\n",
       "    <tr style=\"text-align: right;\">\n",
       "      <th></th>\n",
       "      <th>team_id</th>\n",
       "      <th>team_name</th>\n",
       "      <th>stadium</th>\n",
       "      <th>capacity</th>\n",
       "      <th>surface</th>\n",
       "      <th>city</th>\n",
       "      <th>current_coach</th>\n",
       "    </tr>\n",
       "  </thead>\n",
       "  <tbody>\n",
       "    <tr>\n",
       "      <th>0</th>\n",
       "      <td>1</td>\n",
       "      <td>Arsenal</td>\n",
       "      <td>Emirates</td>\n",
       "      <td>60000</td>\n",
       "      <td>grass</td>\n",
       "      <td>london</td>\n",
       "      <td>Arteta</td>\n",
       "    </tr>\n",
       "  </tbody>\n",
       "</table>\n",
       "</div>"
      ],
      "text/plain": [
       "  team_id team_name   stadium capacity surface    city current_coach\n",
       "0       1   Arsenal  Emirates    60000   grass  london        Arteta"
      ]
     },
     "execution_count": 34,
     "metadata": {},
     "output_type": "execute_result"
    }
   ],
   "source": [
    "df.append(dic, ignore_index = True)"
   ]
  },
  {
   "cell_type": "code",
   "execution_count": 58,
   "id": "e47288e8-b024-4b39-8add-8168ff313206",
   "metadata": {},
   "outputs": [
    {
     "name": "stdout",
     "output_type": "stream",
     "text": [
      "/home/dotun/football-stats-pipeline\n"
     ]
    }
   ],
   "source": [
    "! pwd"
   ]
  },
  {
   "cell_type": "code",
   "execution_count": null,
   "id": "ece72664-8549-48c0-b118-2db57c37d288",
   "metadata": {},
   "outputs": [],
   "source": [
    "df.to_csv(f\""
   ]
  },
  {
   "cell_type": "code",
   "execution_count": 28,
   "id": "0a23d35f-2222-4ce5-b608-10b7d7ab68ce",
   "metadata": {},
   "outputs": [
    {
     "data": {
      "text/plain": [
       "\u001b[0;31mSignature:\u001b[0m\n",
       "\u001b[0mdf\u001b[0m\u001b[0;34m.\u001b[0m\u001b[0mappend\u001b[0m\u001b[0;34m(\u001b[0m\u001b[0;34m\u001b[0m\n",
       "\u001b[0;34m\u001b[0m    \u001b[0mother\u001b[0m\u001b[0;34m,\u001b[0m\u001b[0;34m\u001b[0m\n",
       "\u001b[0;34m\u001b[0m    \u001b[0mignore_index\u001b[0m\u001b[0;34m:\u001b[0m \u001b[0;34m'bool'\u001b[0m \u001b[0;34m=\u001b[0m \u001b[0;32mFalse\u001b[0m\u001b[0;34m,\u001b[0m\u001b[0;34m\u001b[0m\n",
       "\u001b[0;34m\u001b[0m    \u001b[0mverify_integrity\u001b[0m\u001b[0;34m:\u001b[0m \u001b[0;34m'bool'\u001b[0m \u001b[0;34m=\u001b[0m \u001b[0;32mFalse\u001b[0m\u001b[0;34m,\u001b[0m\u001b[0;34m\u001b[0m\n",
       "\u001b[0;34m\u001b[0m    \u001b[0msort\u001b[0m\u001b[0;34m:\u001b[0m \u001b[0;34m'bool'\u001b[0m \u001b[0;34m=\u001b[0m \u001b[0;32mFalse\u001b[0m\u001b[0;34m,\u001b[0m\u001b[0;34m\u001b[0m\n",
       "\u001b[0;34m\u001b[0m\u001b[0;34m)\u001b[0m \u001b[0;34m->\u001b[0m \u001b[0;34m'DataFrame'\u001b[0m\u001b[0;34m\u001b[0m\u001b[0;34m\u001b[0m\u001b[0m\n",
       "\u001b[0;31mDocstring:\u001b[0m\n",
       "Append rows of `other` to the end of caller, returning a new object.\n",
       "\n",
       ".. deprecated:: 1.4.0\n",
       "    Use :func:`concat` instead. For further details see\n",
       "    :ref:`whatsnew_140.deprecations.frame_series_append`\n",
       "\n",
       "Columns in `other` that are not in the caller are added as new columns.\n",
       "\n",
       "Parameters\n",
       "----------\n",
       "other : DataFrame or Series/dict-like object, or list of these\n",
       "    The data to append.\n",
       "ignore_index : bool, default False\n",
       "    If True, the resulting axis will be labeled 0, 1, …, n - 1.\n",
       "verify_integrity : bool, default False\n",
       "    If True, raise ValueError on creating index with duplicates.\n",
       "sort : bool, default False\n",
       "    Sort columns if the columns of `self` and `other` are not aligned.\n",
       "\n",
       "    .. versionchanged:: 1.0.0\n",
       "\n",
       "        Changed to not sort by default.\n",
       "\n",
       "Returns\n",
       "-------\n",
       "DataFrame\n",
       "    A new DataFrame consisting of the rows of caller and the rows of `other`.\n",
       "\n",
       "See Also\n",
       "--------\n",
       "concat : General function to concatenate DataFrame or Series objects.\n",
       "\n",
       "Notes\n",
       "-----\n",
       "If a list of dict/series is passed and the keys are all contained in\n",
       "the DataFrame's index, the order of the columns in the resulting\n",
       "DataFrame will be unchanged.\n",
       "\n",
       "Iteratively appending rows to a DataFrame can be more computationally\n",
       "intensive than a single concatenate. A better solution is to append\n",
       "those rows to a list and then concatenate the list with the original\n",
       "DataFrame all at once.\n",
       "\n",
       "Examples\n",
       "--------\n",
       ">>> df = pd.DataFrame([[1, 2], [3, 4]], columns=list('AB'), index=['x', 'y'])\n",
       ">>> df\n",
       "   A  B\n",
       "x  1  2\n",
       "y  3  4\n",
       ">>> df2 = pd.DataFrame([[5, 6], [7, 8]], columns=list('AB'), index=['x', 'y'])\n",
       ">>> df.append(df2)\n",
       "   A  B\n",
       "x  1  2\n",
       "y  3  4\n",
       "x  5  6\n",
       "y  7  8\n",
       "\n",
       "With `ignore_index` set to True:\n",
       "\n",
       ">>> df.append(df2, ignore_index=True)\n",
       "   A  B\n",
       "0  1  2\n",
       "1  3  4\n",
       "2  5  6\n",
       "3  7  8\n",
       "\n",
       "The following, while not recommended methods for generating DataFrames,\n",
       "show two ways to generate a DataFrame from multiple data sources.\n",
       "\n",
       "Less efficient:\n",
       "\n",
       ">>> df = pd.DataFrame(columns=['A'])\n",
       ">>> for i in range(5):\n",
       "...     df = df.append({'A': i}, ignore_index=True)\n",
       ">>> df\n",
       "   A\n",
       "0  0\n",
       "1  1\n",
       "2  2\n",
       "3  3\n",
       "4  4\n",
       "\n",
       "More efficient:\n",
       "\n",
       ">>> pd.concat([pd.DataFrame([i], columns=['A']) for i in range(5)],\n",
       "...           ignore_index=True)\n",
       "   A\n",
       "0  0\n",
       "1  1\n",
       "2  2\n",
       "3  3\n",
       "4  4\n",
       "\u001b[0;31mFile:\u001b[0m      ~/bin/anaconda3/lib/python3.9/site-packages/pandas/core/frame.py\n",
       "\u001b[0;31mType:\u001b[0m      method\n"
      ]
     },
     "metadata": {},
     "output_type": "display_data"
    }
   ],
   "source": [
    "df.append?"
   ]
  },
  {
   "cell_type": "code",
   "execution_count": null,
   "id": "9119fd1d-5ba4-4863-8203-c011d3b220db",
   "metadata": {},
   "outputs": [],
   "source": []
  }
 ],
 "metadata": {
  "kernelspec": {
   "display_name": "Python 3 (ipykernel)",
   "language": "python",
   "name": "python3"
  },
  "language_info": {
   "codemirror_mode": {
    "name": "ipython",
    "version": 3
   },
   "file_extension": ".py",
   "mimetype": "text/x-python",
   "name": "python",
   "nbconvert_exporter": "python",
   "pygments_lexer": "ipython3",
   "version": "3.9.13"
  }
 },
 "nbformat": 4,
 "nbformat_minor": 5
}
